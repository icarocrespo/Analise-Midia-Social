{
 "cells": [
  {
   "cell_type": "markdown",
   "metadata": {},
   "source": [
    "##### Este trabalho analisa a rede social Twitter utilizando sua API e as hashtags 'winxs' e 'netflix', a fim de levantar o impacto que a Empresa Netflix tem no país e no mundo em relação ao anúncio de uma nova produção em cartaz. É pretendido analisar questões como críticas, público-alvo desta produção e grupo de pessoas que estão comentando sobre a produção no período de XX/12/2020 a XX/12/2020."
   ]
  },
  {
   "cell_type": "markdown",
   "metadata": {},
   "source": [
    "### Importações de bibliotecas"
   ]
  },
  {
   "cell_type": "code",
   "execution_count": 10,
   "metadata": {},
   "outputs": [],
   "source": [
    "import tweepy\n",
    "from textblob import TextBlob\n",
    "from wordcloud import WordCloud\n",
    "\n",
    "import pandas as pd\n",
    "import numpy as np\n",
    "import re\n",
    "import matplotlib.pyplot as plt"
   ]
  },
  {
   "cell_type": "markdown",
   "metadata": {},
   "source": [
    "### Definição das figuras"
   ]
  },
  {
   "cell_type": "code",
   "execution_count": 2,
   "metadata": {},
   "outputs": [],
   "source": [
    "from pylab import rcParams\n",
    "rcParams['figure.figsize'] = 12, 8"
   ]
  },
  {
   "cell_type": "markdown",
   "metadata": {},
   "source": [
    "### Configuração das credenciais da API do Twitter"
   ]
  },
  {
   "cell_type": "code",
   "execution_count": 3,
   "metadata": {},
   "outputs": [],
   "source": [
    "config = pd.read_csv(\"../keys twitter.csv\", sep=\";\")\n",
    "twitterApiKey = config['twitterApiKey'][0]\n",
    "twitterApiSecret = config['twitterApiSecret'][0]\n",
    "twitterApiAccessToken = config['twitterApiAccessToken'][0]\n",
    "twitterApiAccessTokenSecret = config['twitterApiAccessTokenSecret'][0]"
   ]
  },
  {
   "cell_type": "markdown",
   "metadata": {},
   "source": [
    "### Autenticação"
   ]
  },
  {
   "cell_type": "code",
   "execution_count": 4,
   "metadata": {},
   "outputs": [],
   "source": [
    "auth = tweepy.OAuthHandler(twitterApiKey, twitterApiSecret)\n",
    "auth.set_access_token(twitterApiAccessToken, twitterApiAccessTokenSecret)\n",
    "twetterApi = tweepy.API(auth, wait_on_rate_limit = True)"
   ]
  },
  {
   "cell_type": "markdown",
   "metadata": {},
   "source": [
    "### Conta(s) em foco"
   ]
  },
  {
   "cell_type": "code",
   "execution_count": 5,
   "metadata": {},
   "outputs": [],
   "source": [
    "account1 = \"netflix\"\n",
    "account2 = \"NetflixBrasil\""
   ]
  },
  {
   "cell_type": "code",
   "execution_count": 6,
   "metadata": {},
   "outputs": [],
   "source": [
    "tweets1 = tweepy.Cursor(twetterApi.user_timeline, \n",
    "                        screen_name=account1, \n",
    "                        count=None,\n",
    "                        since_id=None,\n",
    "                        max_id=None,\n",
    "                        trim_user=True,\n",
    "                        exclude_replies=True,\n",
    "                        contributor_details=False,\n",
    "                        include_entities=False\n",
    "                        ).items(200);\n",
    "\n",
    "tweets2 = tweepy.Cursor(twetterApi.user_timeline, \n",
    "                        screen_name=account2, \n",
    "                        count=None,\n",
    "                        since_id=None,\n",
    "                        max_id=None,\n",
    "                        trim_user=True,\n",
    "                        exclude_replies=True,\n",
    "                        contributor_details=False,\n",
    "                        include_entities=False\n",
    "                        ).items(200);"
   ]
  },
  {
   "cell_type": "code",
   "execution_count": 7,
   "metadata": {},
   "outputs": [],
   "source": [
    "#Account1\n",
    "df1 = pd.DataFrame(data=[tweet.text for tweet in tweets1], columns=['Tweet'])\n",
    "\n",
    "#Account2\n",
    "df2 = pd.DataFrame(data=[tweet.text for tweet in tweets2], columns=['Tweet'])\n"
   ]
  },
  {
   "cell_type": "code",
   "execution_count": 8,
   "metadata": {},
   "outputs": [
    {
     "name": "stdout",
     "output_type": "stream",
     "text": [
      "Netflix\n"
     ]
    },
    {
     "data": {
      "text/html": [
       "<div>\n",
       "<style scoped>\n",
       "    .dataframe tbody tr th:only-of-type {\n",
       "        vertical-align: middle;\n",
       "    }\n",
       "\n",
       "    .dataframe tbody tr th {\n",
       "        vertical-align: top;\n",
       "    }\n",
       "\n",
       "    .dataframe thead th {\n",
       "        text-align: right;\n",
       "    }\n",
       "</style>\n",
       "<table border=\"1\" class=\"dataframe\">\n",
       "  <thead>\n",
       "    <tr style=\"text-align: right;\">\n",
       "      <th></th>\n",
       "      <th>Tweet</th>\n",
       "    </tr>\n",
       "  </thead>\n",
       "  <tbody>\n",
       "    <tr>\n",
       "      <th>0</th>\n",
       "      <td>Tiny Pretty Things cast trained dancers in lead roles resulting in some seriously sensational routines — like this… https://t.co/RNvetecDDM</td>\n",
       "    </tr>\n",
       "    <tr>\n",
       "      <th>1</th>\n",
       "      <td>RT @Most: Zazz aside, at the center of Ryan Murphy’s THE PROM lies a true story that's just as fantastical as the movie. Meet the inspirati…</td>\n",
       "    </tr>\n",
       "    <tr>\n",
       "      <th>2</th>\n",
       "      <td>After all these years, it is still thrilling to watch Meryl Streep just absolutely crush a monologue. \\n\\n(📽️: The Pr… https://t.co/AcbIsKz3Mr</td>\n",
       "    </tr>\n",
       "    <tr>\n",
       "      <th>3</th>\n",
       "      <td>RT @NetflixIsAJoke: https://t.co/b1Fk4x7Fjx</td>\n",
       "    </tr>\n",
       "    <tr>\n",
       "      <th>4</th>\n",
       "      <td>RT @NetflixFilm: These cutie pies were at the top of the Instagram charts — and our hearts! — in 2020. They got the most new followers of a…</td>\n",
       "    </tr>\n",
       "  </tbody>\n",
       "</table>\n",
       "</div>"
      ],
      "text/plain": [
       "                                                                                                                                            Tweet\n",
       "0     Tiny Pretty Things cast trained dancers in lead roles resulting in some seriously sensational routines — like this… https://t.co/RNvetecDDM\n",
       "1    RT @Most: Zazz aside, at the center of Ryan Murphy’s THE PROM lies a true story that's just as fantastical as the movie. Meet the inspirati…\n",
       "2  After all these years, it is still thrilling to watch Meryl Streep just absolutely crush a monologue. \\n\\n(📽️: The Pr… https://t.co/AcbIsKz3Mr\n",
       "3                                                                                                     RT @NetflixIsAJoke: https://t.co/b1Fk4x7Fjx\n",
       "4    RT @NetflixFilm: These cutie pies were at the top of the Instagram charts — and our hearts! — in 2020. They got the most new followers of a…"
      ]
     },
     "execution_count": 8,
     "metadata": {},
     "output_type": "execute_result"
    }
   ],
   "source": [
    "pd.set_option('display.max_colwidth', 240)\n",
    "\n",
    "print('Netflix')\n",
    "df1.head()"
   ]
  },
  {
   "cell_type": "code",
   "execution_count": 9,
   "metadata": {},
   "outputs": [
    {
     "name": "stdout",
     "output_type": "stream",
     "text": [
      "Netflix Brasil\n"
     ]
    },
    {
     "data": {
      "text/html": [
       "<div>\n",
       "<style scoped>\n",
       "    .dataframe tbody tr th:only-of-type {\n",
       "        vertical-align: middle;\n",
       "    }\n",
       "\n",
       "    .dataframe tbody tr th {\n",
       "        vertical-align: top;\n",
       "    }\n",
       "\n",
       "    .dataframe thead th {\n",
       "        text-align: right;\n",
       "    }\n",
       "</style>\n",
       "<table border=\"1\" class=\"dataframe\">\n",
       "  <thead>\n",
       "    <tr style=\"text-align: right;\">\n",
       "      <th></th>\n",
       "      <th>Tweet</th>\n",
       "    </tr>\n",
       "  </thead>\n",
       "  <tbody>\n",
       "    <tr>\n",
       "      <th>0</th>\n",
       "      <td>Ok, vamos lá: thread com os melhores trocadilhos com o título O Gambito da Rainha.</td>\n",
       "    </tr>\n",
       "    <tr>\n",
       "      <th>1</th>\n",
       "      <td>Pera aí ✋🤔🐝 https://t.co/lvQkll4OZ6</td>\n",
       "    </tr>\n",
       "    <tr>\n",
       "      <th>2</th>\n",
       "      <td>Vinte e um estudantes desaparecem misteriosamente. Vinte anos depois, a verdade perturbadora sobre o caso vem à ton… https://t.co/jeQH0WElFK</td>\n",
       "    </tr>\n",
       "    <tr>\n",
       "      <th>3</th>\n",
       "      <td>The boss is on / ¡La Patroa está on! / A patroa está ON!\\nAnitta: Made In Honório já está disponível.… https://t.co/0KZuo4D0q4</td>\n",
       "    </tr>\n",
       "    <tr>\n",
       "      <th>4</th>\n",
       "      <td>RT @Anitta: My new series, Anitta: Made In Honório, is now available on @netflix / @NetflixBrasil for you to binge-watch!\\n\\nMi nueva serie,…</td>\n",
       "    </tr>\n",
       "  </tbody>\n",
       "</table>\n",
       "</div>"
      ],
      "text/plain": [
       "                                                                                                                                           Tweet\n",
       "0                                                             Ok, vamos lá: thread com os melhores trocadilhos com o título O Gambito da Rainha.\n",
       "1                                                                                                            Pera aí ✋🤔🐝 https://t.co/lvQkll4OZ6\n",
       "2   Vinte e um estudantes desaparecem misteriosamente. Vinte anos depois, a verdade perturbadora sobre o caso vem à ton… https://t.co/jeQH0WElFK\n",
       "3                 The boss is on / ¡La Patroa está on! / A patroa está ON!\\nAnitta: Made In Honório já está disponível.… https://t.co/0KZuo4D0q4\n",
       "4  RT @Anitta: My new series, Anitta: Made In Honório, is now available on @netflix / @NetflixBrasil for you to binge-watch!\\n\\nMi nueva serie,…"
      ]
     },
     "execution_count": 9,
     "metadata": {},
     "output_type": "execute_result"
    }
   ],
   "source": [
    "print('Netflix Brasil')\n",
    "df2.head()"
   ]
  },
  {
   "cell_type": "markdown",
   "metadata": {},
   "source": [
    "### Funções de Subjetividade e Polaridade"
   ]
  },
  {
   "cell_type": "code",
   "execution_count": 12,
   "metadata": {},
   "outputs": [],
   "source": [
    "def getTextSubjectivity(txt):\n",
    "    return TextBlob(txt).sentiment.subjectivity\n",
    "\n",
    "def getTextPolarity(txt):\n",
    "    return TextBlob(txt).sentiment.polarity"
   ]
  },
  {
   "cell_type": "code",
   "execution_count": 15,
   "metadata": {},
   "outputs": [],
   "source": [
    "# Aplicando funções nos dataframes\n",
    "\n",
    "df1['Subjectivity'] = df1['Tweet'].apply(getTextSubjectivity)\n",
    "df1['Polarity'] = df1['Tweet'].apply(getTextPolarity)\n",
    "\n",
    "df2['Subjectivity'] = df2['Tweet'].apply(getTextSubjectivity)\n",
    "df2['Polarity'] = df2['Tweet'].apply(getTextPolarity)\n"
   ]
  },
  {
   "cell_type": "code",
   "execution_count": 16,
   "metadata": {},
   "outputs": [
    {
     "data": {
      "text/html": [
       "<div>\n",
       "<style scoped>\n",
       "    .dataframe tbody tr th:only-of-type {\n",
       "        vertical-align: middle;\n",
       "    }\n",
       "\n",
       "    .dataframe tbody tr th {\n",
       "        vertical-align: top;\n",
       "    }\n",
       "\n",
       "    .dataframe thead th {\n",
       "        text-align: right;\n",
       "    }\n",
       "</style>\n",
       "<table border=\"1\" class=\"dataframe\">\n",
       "  <thead>\n",
       "    <tr style=\"text-align: right;\">\n",
       "      <th></th>\n",
       "      <th>Tweet</th>\n",
       "      <th>Subjectivity</th>\n",
       "      <th>Polarity</th>\n",
       "    </tr>\n",
       "  </thead>\n",
       "  <tbody>\n",
       "    <tr>\n",
       "      <th>0</th>\n",
       "      <td>Tiny Pretty Things cast trained dancers in lead roles resulting in some seriously sensational routines — like this… https://t.co/RNvetecDDM</td>\n",
       "      <td>0.722222</td>\n",
       "      <td>0.305556</td>\n",
       "    </tr>\n",
       "    <tr>\n",
       "      <th>1</th>\n",
       "      <td>RT @Most: Zazz aside, at the center of Ryan Murphy’s THE PROM lies a true story that's just as fantastical as the movie. Meet the inspirati…</td>\n",
       "      <td>0.416667</td>\n",
       "      <td>0.250000</td>\n",
       "    </tr>\n",
       "    <tr>\n",
       "      <th>2</th>\n",
       "      <td>After all these years, it is still thrilling to watch Meryl Streep just absolutely crush a monologue. \\n\\n(📽️: The Pr… https://t.co/AcbIsKz3Mr</td>\n",
       "      <td>0.950000</td>\n",
       "      <td>0.225000</td>\n",
       "    </tr>\n",
       "    <tr>\n",
       "      <th>3</th>\n",
       "      <td>RT @NetflixIsAJoke: https://t.co/b1Fk4x7Fjx</td>\n",
       "      <td>0.000000</td>\n",
       "      <td>0.000000</td>\n",
       "    </tr>\n",
       "    <tr>\n",
       "      <th>4</th>\n",
       "      <td>RT @NetflixFilm: These cutie pies were at the top of the Instagram charts — and our hearts! — in 2020. They got the most new followers of a…</td>\n",
       "      <td>0.484848</td>\n",
       "      <td>0.420455</td>\n",
       "    </tr>\n",
       "  </tbody>\n",
       "</table>\n",
       "</div>"
      ],
      "text/plain": [
       "                                                                                                                                            Tweet  \\\n",
       "0     Tiny Pretty Things cast trained dancers in lead roles resulting in some seriously sensational routines — like this… https://t.co/RNvetecDDM   \n",
       "1    RT @Most: Zazz aside, at the center of Ryan Murphy’s THE PROM lies a true story that's just as fantastical as the movie. Meet the inspirati…   \n",
       "2  After all these years, it is still thrilling to watch Meryl Streep just absolutely crush a monologue. \\n\\n(📽️: The Pr… https://t.co/AcbIsKz3Mr   \n",
       "3                                                                                                     RT @NetflixIsAJoke: https://t.co/b1Fk4x7Fjx   \n",
       "4    RT @NetflixFilm: These cutie pies were at the top of the Instagram charts — and our hearts! — in 2020. They got the most new followers of a…   \n",
       "\n",
       "   Subjectivity  Polarity  \n",
       "0      0.722222  0.305556  \n",
       "1      0.416667  0.250000  \n",
       "2      0.950000  0.225000  \n",
       "3      0.000000  0.000000  \n",
       "4      0.484848  0.420455  "
      ]
     },
     "execution_count": 16,
     "metadata": {},
     "output_type": "execute_result"
    }
   ],
   "source": [
    "df1.head()"
   ]
  },
  {
   "cell_type": "code",
   "execution_count": 17,
   "metadata": {},
   "outputs": [
    {
     "data": {
      "text/html": [
       "<div>\n",
       "<style scoped>\n",
       "    .dataframe tbody tr th:only-of-type {\n",
       "        vertical-align: middle;\n",
       "    }\n",
       "\n",
       "    .dataframe tbody tr th {\n",
       "        vertical-align: top;\n",
       "    }\n",
       "\n",
       "    .dataframe thead th {\n",
       "        text-align: right;\n",
       "    }\n",
       "</style>\n",
       "<table border=\"1\" class=\"dataframe\">\n",
       "  <thead>\n",
       "    <tr style=\"text-align: right;\">\n",
       "      <th></th>\n",
       "      <th>Tweet</th>\n",
       "      <th>Subjectivity</th>\n",
       "      <th>Polarity</th>\n",
       "    </tr>\n",
       "  </thead>\n",
       "  <tbody>\n",
       "    <tr>\n",
       "      <th>0</th>\n",
       "      <td>Ok, vamos lá: thread com os melhores trocadilhos com o título O Gambito da Rainha.</td>\n",
       "      <td>0.500000</td>\n",
       "      <td>0.500000</td>\n",
       "    </tr>\n",
       "    <tr>\n",
       "      <th>1</th>\n",
       "      <td>Pera aí ✋🤔🐝 https://t.co/lvQkll4OZ6</td>\n",
       "      <td>0.000000</td>\n",
       "      <td>0.000000</td>\n",
       "    </tr>\n",
       "    <tr>\n",
       "      <th>2</th>\n",
       "      <td>Vinte e um estudantes desaparecem misteriosamente. Vinte anos depois, a verdade perturbadora sobre o caso vem à ton… https://t.co/jeQH0WElFK</td>\n",
       "      <td>0.000000</td>\n",
       "      <td>0.000000</td>\n",
       "    </tr>\n",
       "    <tr>\n",
       "      <th>3</th>\n",
       "      <td>The boss is on / ¡La Patroa está on! / A patroa está ON!\\nAnitta: Made In Honório já está disponível.… https://t.co/0KZuo4D0q4</td>\n",
       "      <td>0.000000</td>\n",
       "      <td>0.000000</td>\n",
       "    </tr>\n",
       "    <tr>\n",
       "      <th>4</th>\n",
       "      <td>RT @Anitta: My new series, Anitta: Made In Honório, is now available on @netflix / @NetflixBrasil for you to binge-watch!\\n\\nMi nueva serie,…</td>\n",
       "      <td>0.427273</td>\n",
       "      <td>0.318182</td>\n",
       "    </tr>\n",
       "  </tbody>\n",
       "</table>\n",
       "</div>"
      ],
      "text/plain": [
       "                                                                                                                                           Tweet  \\\n",
       "0                                                             Ok, vamos lá: thread com os melhores trocadilhos com o título O Gambito da Rainha.   \n",
       "1                                                                                                            Pera aí ✋🤔🐝 https://t.co/lvQkll4OZ6   \n",
       "2   Vinte e um estudantes desaparecem misteriosamente. Vinte anos depois, a verdade perturbadora sobre o caso vem à ton… https://t.co/jeQH0WElFK   \n",
       "3                 The boss is on / ¡La Patroa está on! / A patroa está ON!\\nAnitta: Made In Honório já está disponível.… https://t.co/0KZuo4D0q4   \n",
       "4  RT @Anitta: My new series, Anitta: Made In Honório, is now available on @netflix / @NetflixBrasil for you to binge-watch!\\n\\nMi nueva serie,…   \n",
       "\n",
       "   Subjectivity  Polarity  \n",
       "0      0.500000  0.500000  \n",
       "1      0.000000  0.000000  \n",
       "2      0.000000  0.000000  \n",
       "3      0.000000  0.000000  \n",
       "4      0.427273  0.318182  "
      ]
     },
     "execution_count": 17,
     "metadata": {},
     "output_type": "execute_result"
    }
   ],
   "source": [
    "df2.head()"
   ]
  },
  {
   "cell_type": "code",
   "execution_count": null,
   "metadata": {},
   "outputs": [],
   "source": [
    "# Função para categorizar Tweets em Positivos, Negativos e Neutros.\n",
    "def getTextAnalysis(a):\n",
    "    if a < 0:\n",
    "        return \"Negative\"\n",
    "    elif a == 0:\n",
    "        return \"Neutral\"\n",
    "    else:\n",
    "        return \"Positive\""
   ]
  },
  {
   "cell_type": "markdown",
   "metadata": {},
   "source": [
    "### Limpeza de dados"
   ]
  },
  {
   "cell_type": "code",
   "execution_count": 14,
   "metadata": {},
   "outputs": [],
   "source": [
    "# Cleaning the tweets\n",
    "\n",
    "def limparTweet(txt):\n",
    "    # Remove mentions\n",
    "    # txt = re.sub(r'@[A-Za-z0-9_]+', '', txt)\n",
    "    # Remove hashtags\n",
    "    # txt = re.sub(r'#', '', txt)\n",
    "    # Remove retweets:\n",
    "     txt = re.sub(r'RT : ', '', txt)\n",
    "    # Remove urls\n",
    "    # txt = re.sub(r'https?:\\/\\/[A-Za-z0-9\\.\\/]+', '', txt)\n",
    "     return txt"
   ]
  },
  {
   "cell_type": "code",
   "execution_count": 19,
   "metadata": {},
   "outputs": [],
   "source": [
    "#df2['Tweet'] = df2['Tweet'].apply(limparTweet)\n"
   ]
  },
  {
   "cell_type": "markdown",
   "metadata": {},
   "source": [
    "### Removendo linhas vazias "
   ]
  },
  {
   "cell_type": "code",
   "execution_count": null,
   "metadata": {},
   "outputs": [],
   "source": [
    "df1 = df1.drop(df1[df1['Tweet'] == ''].index)\n",
    "\n",
    "df2 = df2.drop(df2[df2['Tweet'] == ''].index)\n"
   ]
  }
 ],
 "metadata": {
  "kernelspec": {
   "display_name": "Python 3",
   "language": "python",
   "name": "python3"
  },
  "language_info": {
   "codemirror_mode": {
    "name": "ipython",
    "version": 3
   },
   "file_extension": ".py",
   "mimetype": "text/x-python",
   "name": "python",
   "nbconvert_exporter": "python",
   "pygments_lexer": "ipython3",
   "version": "3.8.5"
  }
 },
 "nbformat": 4,
 "nbformat_minor": 4
}
